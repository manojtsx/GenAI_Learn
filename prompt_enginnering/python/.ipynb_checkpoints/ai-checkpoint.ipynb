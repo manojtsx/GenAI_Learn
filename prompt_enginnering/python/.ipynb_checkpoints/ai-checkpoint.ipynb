{
 "cells": [
  {
   "cell_type": "code",
   "execution_count": 3,
   "id": "80227a5d",
   "metadata": {},
   "outputs": [
    {
     "name": "stdout",
     "output_type": "stream",
     "text": [
      "Collecting python-dotenv\n",
      "  Downloading python_dotenv-1.1.0-py3-none-any.whl.metadata (24 kB)\n",
      "Downloading python_dotenv-1.1.0-py3-none-any.whl (20 kB)\n",
      "Installing collected packages: python-dotenv\n",
      "Successfully installed python-dotenv-1.1.0\n",
      "Note: you may need to restart the kernel to use updated packages.\n"
     ]
    }
   ],
   "source": [
    "%pip install python-dotenv"
   ]
  },
  {
   "cell_type": "code",
   "execution_count": 2,
   "id": "adc9417a",
   "metadata": {},
   "outputs": [
    {
     "name": "stdout",
     "output_type": "stream",
     "text": [
      "Note: you may need to restart the kernel to use updated packages.\n"
     ]
    }
   ],
   "source": [
    "%pip install -q -U google-generativeai"
   ]
  },
  {
   "cell_type": "code",
   "execution_count": null,
   "id": "c51ba1ce",
   "metadata": {},
   "outputs": [
    {
     "name": "stdout",
     "output_type": "stream",
     "text": [
      "API key configured successfully.\n"
     ]
    }
   ],
   "source": [
    "import google.generativeai as genai\n",
    "from dotenv import load_dotenv\n",
    "import os\n",
    "\n",
    "# Load environment variables from .env file\n",
    "load_dotenv()\n",
    "\n",
    "# Configure the API key from environment variable\n",
    "api_key = os.getenv(\"GEMINI_API_KEY\")\n",
    "\n",
    "if not api_key:\n",
    "    api_key = os.getenv(\"GOOGLE_API_KEY\")\n",
    "\n",
    "if api_key:\n",
    "    genai.configure(api_key=api_key)\n",
    "    print(\"API key configured successfully.\")\n",
    "else:\n",
    "    raise EnvironmentError(\"API key not found. Please set the GEMINI_API_KEY or GOOGLE_API_KEY environment variable.\")"
   ]
  },
  {
   "cell_type": "code",
   "execution_count": 27,
   "id": "f372eb61",
   "metadata": {},
   "outputs": [
    {
     "name": "stdout",
     "output_type": "stream",
     "text": [
      "Sending prompt to the model...\n",
      "Token count for the prompt: total_tokens: 4\n",
      "\n",
      "-----------------------\n",
      "Response received:\n",
      "I am doing well, thank you for asking!  How are you today?\n",
      "\n",
      "-----------------------\n"
     ]
    }
   ],
   "source": [
    "try:\n",
    "    #Initialize the Generative AI model\n",
    "    model = genai.GenerativeModel(\"gemini-1.5-flash\")\n",
    "\n",
    "    #Define a prompt\n",
    "    ExtraPrompt = \" \"\n",
    "    prompt = input(\"Enter your prompt: \")\n",
    "    # prompt = \"What is the capital of France?\"\n",
    "    print(\"Sending prompt to the model...\")\n",
    "\n",
    "#Count tokens in a prompt\n",
    "    token_count = model.count_tokens(ExtraPrompt + prompt)\n",
    "    print(f\"Token count for the prompt: {token_count}\")\n",
    "    print(\"-----------------------\")\n",
    "    #Generate a response\n",
    "    response = model.generate_content(prompt,\n",
    "                                      generation_config={\n",
    "                                          \"temperature\": 0.1, #Control randomness\n",
    "                                            \"max_output_tokens\": 100, #  Limit output to 100 tokens\n",
    "                                            # \"top_p\": 0.9, #Control diversity\n",
    "                                            # \"top_k\": 40, #Control diversity \n",
    "\n",
    "                                      })\n",
    "    print(\"Response received:\") \n",
    "    print(response._result.candidates[0].content.parts[0].text)\n",
    "    print(\"-----------------------\")\n",
    "except Exception as e:\n",
    "    print(\"An error occurred while generating content:\")\n",
    "    print(e)\n"
   ]
  }
 ],
 "metadata": {
  "kernelspec": {
   "display_name": "Python 3",
   "language": "python",
   "name": "python3"
  },
  "language_info": {
   "codemirror_mode": {
    "name": "ipython",
    "version": 3
   },
   "file_extension": ".py",
   "mimetype": "text/x-python",
   "name": "python",
   "nbconvert_exporter": "python",
   "pygments_lexer": "ipython3",
   "version": "3.13.3"
  }
 },
 "nbformat": 4,
 "nbformat_minor": 5
}
