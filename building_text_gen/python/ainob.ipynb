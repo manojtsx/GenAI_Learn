{
 "cells": [
  {
   "cell_type": "code",
   "execution_count": 3,
   "id": "d556b076-5766-4531-8f54-20469e73669e",
   "metadata": {},
   "outputs": [
    {
     "name": "stdout",
     "output_type": "stream",
     "text": [
      "API key configured successfully.\n"
     ]
    }
   ],
   "source": [
    "import google.generativeai as genai\n",
    "from dotenv import load_dotenv\n",
    "import os\n",
    "\n",
    "# Load environment variables from .env file\n",
    "load_dotenv()\n",
    "\n",
    "# Configure the API key from environment variable\n",
    "api_key = os.getenv(\"GEMINI_API_KEY\") or os.getenv(\"GOOGLE_API_KEY\")\n",
    "\n",
    "if api_key:\n",
    "    genai.configure(api_key=api_key)\n",
    "    print(\"API key configured successfully.\")\n",
    "else:\n",
    "    raise EnvironmentError(\"API key not found. Please set the GEMINI_API_KEY or GOOGLE_API_KEY environment variable.\")"
   ]
  },
  {
   "cell_type": "code",
   "execution_count": 4,
   "id": "7f730dcf-7a2a-4169-8101-d2ddaeeb8a19",
   "metadata": {},
   "outputs": [
    {
     "name": "stdin",
     "output_type": "stream",
     "text": [
      "Enter your prompt:  Can you tell me a very short story?\n"
     ]
    },
    {
     "name": "stdout",
     "output_type": "stream",
     "text": [
      "Sending prompt to the model...\n",
      "Token count for the prompt: total_tokens: 9\n",
      "\n",
      "-----------------------\n",
      "Response received:\n",
      "The old lighthouse keeper, Silas, squinted at the churning sea.  For fifty years, he'd watched the waves crash against the rocks, a constant, predictable rhythm.  Tonight, though, the rhythm faltered.  A single, perfect, iridescent pearl washed ashore, nestled amongst the debris.  Silas knew, with a certainty that chilled him to the bone, that the sea had given him a warning, not a gift.\n",
      "\n",
      "-----------------------\n"
     ]
    }
   ],
   "source": [
    "try:\n",
    "    #Initialize the Generative AI model\n",
    "    model = genai.GenerativeModel(\"gemini-1.5-flash\")\n",
    "\n",
    "    #Define a prompt\n",
    "    ExtraPrompt = \" \"\n",
    "    prompt = input(\"Enter your prompt: \")\n",
    "    # prompt = \"What is the capital of France?\"\n",
    "    print(\"Sending prompt to the model...\")\n",
    "\n",
    "#Count tokens in a prompt\n",
    "    token_count = model.count_tokens(ExtraPrompt + prompt)\n",
    "    print(f\"Token count for the prompt: {token_count}\")\n",
    "    print(\"-----------------------\")\n",
    "    #Generate a response\n",
    "    response = model.generate_content(prompt,\n",
    "                                      generation_config={\n",
    "                                          \"temperature\": 0.1, #Control randomness\n",
    "                                            \"max_output_tokens\": 100, #  Limit output to 100 tokens\n",
    "                                            # \"top_p\": 0.9, #Control diversity\n",
    "                                            # \"top_k\": 40, #Control diversity \n",
    "\n",
    "                                      })\n",
    "    print(\"Response received:\") \n",
    "    print(response._result.candidates[0].content.parts[0].text)\n",
    "    print(\"-----------------------\")\n",
    "except Exception as e:\n",
    "    print(\"An error occurred while generating content:\")\n",
    "    print(e)\n"
   ]
  },
  {
   "cell_type": "code",
   "execution_count": 8,
   "id": "a51d41c9-2f26-4fd8-bd54-be0d17573839",
   "metadata": {},
   "outputs": [
    {
     "name": "stdout",
     "output_type": "stream",
     "text": [
      "Yes, SthaManoj Enterprises offers mobile app development using React Native.\n",
      "\n"
     ]
    }
   ],
   "source": [
    "try:\n",
    "    business_knowledge = \"\"\"\n",
    "Company: SthaManoj Enterprises\n",
    "\n",
    "Services:\n",
    "- Website development (React, Next.js, WordPress)\n",
    "- Mobile app development (React Native)\n",
    "- IT consulting\n",
    "- Hosting & domain support\n",
    "\n",
    "FAQs:\n",
    "Q: Do you provide SEO services?\n",
    "A: Yes, basic SEO is included in all website projects.\n",
    "\n",
    "Q: Do you work internationally?\n",
    "A: Yes, we accept clients from anywhere.\n",
    "\n",
    "Answer only based on this information.\n",
    "\"\"\"\n",
    "\n",
    "    chat = model.start_chat()\n",
    "    chat.send_message(\"Use this business context:\\n\" + business_knowledge)\n",
    "\n",
    "    response = chat.send_message(\"Do you offer mobile apps?\")\n",
    "    print(response.text)\n",
    "except Exception as e:\n",
    "    print(\"Ane error occured\")\n",
    "    print(e)"
   ]
  },
  {
   "cell_type": "code",
   "execution_count": 10,
   "id": "cdfdd506-e003-4ff4-b0c7-a92eedb9a6e9",
   "metadata": {},
   "outputs": [
    {
     "name": "stdout",
     "output_type": "stream",
     "text": [
      "Yes, SthaManoj Enterprises offers mobile app development using React Native.\n",
      "\n"
     ]
    }
   ],
   "source": [
    "try:\n",
    "    chat.send_message(\"do you offer SEO?\")\n",
    "    print(response.text)\n",
    "except Exception as e:\n",
    "    print(\"An error occured\")\n",
    "    print(e)"
   ]
  }
 ],
 "metadata": {
  "kernelspec": {
   "display_name": "Python 3 (ipykernel)",
   "language": "python",
   "name": "python3"
  },
  "language_info": {
   "codemirror_mode": {
    "name": "ipython",
    "version": 3
   },
   "file_extension": ".py",
   "mimetype": "text/x-python",
   "name": "python",
   "nbconvert_exporter": "python",
   "pygments_lexer": "ipython3",
   "version": "3.13.3"
  }
 },
 "nbformat": 4,
 "nbformat_minor": 5
}
